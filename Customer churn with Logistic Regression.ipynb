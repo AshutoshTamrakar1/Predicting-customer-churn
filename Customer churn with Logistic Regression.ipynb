{
    "cells": [
        {
            "metadata": {},
            "cell_type": "code",
            "source": "import pandas as pd\nimport pylab as pl\nimport numpy as np\nimport scipy.optimize as opt\nfrom sklearn import preprocessing\n%matplotlib inline\nimport matplotlib.pyplot as plt",
            "execution_count": 1,
            "outputs": []
        },
        {
            "metadata": {},
            "cell_type": "markdown",
            "source": "<h2 id=\"about_dataset\">About the dataset</h2>\nThis is a historical customer dataset where each row represents one customer. The data is relatively easy to understand, and you may uncover insights you can use immediately. Typically it is less expensive to keep customers than acquire new ones, so the focus of this analysis is to predict the customers who will stay with the company. \n\nThis data set provides information to help you predict what behavior will help you to retain customers. You can analyze all relevant customer data and develop focused customer retention programs.\n\n\n\nThe dataset includes information about:\n\n- Customers who left within the last month \u2013 the column is called Churn\n- Services that each customer has signed up for \u2013 phone, multiple lines, internet, online security, online backup, device protection, tech support, and streaming TV and movies\n- Customer account information \u2013 how long they had been a customer, contract, payment method, paperless billing, monthly charges, and total charges\n- Demographic info about customers \u2013 gender, age range, and if they have partners and dependents"
        },
        {
            "metadata": {},
            "cell_type": "code",
            "source": "#To download the data, we will use !wget to download it from IBM Object Storage.\n!wget -O ChurnData.csv https://s3-api.us-geo.objectstorage.softlayer.net/cf-courses-data/CognitiveClass/ML0101ENv3/labs/ChurnData.csv",
            "execution_count": 3,
            "outputs": [
                {
                    "output_type": "stream",
                    "text": "--2020-04-05 14:34:47--  https://s3-api.us-geo.objectstorage.softlayer.net/cf-courses-data/CognitiveClass/ML0101ENv3/labs/ChurnData.csv\nResolving s3-api.us-geo.objectstorage.softlayer.net (s3-api.us-geo.objectstorage.softlayer.net)... 67.228.254.196\nConnecting to s3-api.us-geo.objectstorage.softlayer.net (s3-api.us-geo.objectstorage.softlayer.net)|67.228.254.196|:443... connected.\nHTTP request sent, awaiting response... 200 OK\nLength: 36144 (35K) [text/csv]\nSaving to: \u2018ChurnData.csv\u2019\n\n100%[======================================>] 36,144      --.-K/s   in 0.07s   \n\n2020-04-05 14:34:48 (473 KB/s) - \u2018ChurnData.csv\u2019 saved [36144/36144]\n\n",
                    "name": "stdout"
                }
            ]
        },
        {
            "metadata": {},
            "cell_type": "code",
            "source": "df = pd.read_csv(\"ChurnData.csv\")\ndf.head()",
            "execution_count": 5,
            "outputs": [
                {
                    "output_type": "execute_result",
                    "execution_count": 5,
                    "data": {
                        "text/plain": "   tenure   age  address  income   ed  employ  equip  callcard  wireless  \\\n0    11.0  33.0      7.0   136.0  5.0     5.0    0.0       1.0       1.0   \n1    33.0  33.0     12.0    33.0  2.0     0.0    0.0       0.0       0.0   \n2    23.0  30.0      9.0    30.0  1.0     2.0    0.0       0.0       0.0   \n3    38.0  35.0      5.0    76.0  2.0    10.0    1.0       1.0       1.0   \n4     7.0  35.0     14.0    80.0  2.0    15.0    0.0       1.0       0.0   \n\n   longmon  ...  pager  internet  callwait  confer  ebill  loglong  logtoll  \\\n0     4.40  ...    1.0       0.0       1.0     1.0    0.0    1.482    3.033   \n1     9.45  ...    0.0       0.0       0.0     0.0    0.0    2.246    3.240   \n2     6.30  ...    0.0       0.0       0.0     1.0    0.0    1.841    3.240   \n3     6.05  ...    1.0       1.0       1.0     1.0    1.0    1.800    3.807   \n4     7.10  ...    0.0       0.0       1.0     1.0    0.0    1.960    3.091   \n\n   lninc  custcat  churn  \n0  4.913      4.0    1.0  \n1  3.497      1.0    1.0  \n2  3.401      3.0    0.0  \n3  4.331      4.0    0.0  \n4  4.382      3.0    0.0  \n\n[5 rows x 28 columns]",
                        "text/html": "<div>\n<style scoped>\n    .dataframe tbody tr th:only-of-type {\n        vertical-align: middle;\n    }\n\n    .dataframe tbody tr th {\n        vertical-align: top;\n    }\n\n    .dataframe thead th {\n        text-align: right;\n    }\n</style>\n<table border=\"1\" class=\"dataframe\">\n  <thead>\n    <tr style=\"text-align: right;\">\n      <th></th>\n      <th>tenure</th>\n      <th>age</th>\n      <th>address</th>\n      <th>income</th>\n      <th>ed</th>\n      <th>employ</th>\n      <th>equip</th>\n      <th>callcard</th>\n      <th>wireless</th>\n      <th>longmon</th>\n      <th>...</th>\n      <th>pager</th>\n      <th>internet</th>\n      <th>callwait</th>\n      <th>confer</th>\n      <th>ebill</th>\n      <th>loglong</th>\n      <th>logtoll</th>\n      <th>lninc</th>\n      <th>custcat</th>\n      <th>churn</th>\n    </tr>\n  </thead>\n  <tbody>\n    <tr>\n      <th>0</th>\n      <td>11.0</td>\n      <td>33.0</td>\n      <td>7.0</td>\n      <td>136.0</td>\n      <td>5.0</td>\n      <td>5.0</td>\n      <td>0.0</td>\n      <td>1.0</td>\n      <td>1.0</td>\n      <td>4.40</td>\n      <td>...</td>\n      <td>1.0</td>\n      <td>0.0</td>\n      <td>1.0</td>\n      <td>1.0</td>\n      <td>0.0</td>\n      <td>1.482</td>\n      <td>3.033</td>\n      <td>4.913</td>\n      <td>4.0</td>\n      <td>1.0</td>\n    </tr>\n    <tr>\n      <th>1</th>\n      <td>33.0</td>\n      <td>33.0</td>\n      <td>12.0</td>\n      <td>33.0</td>\n      <td>2.0</td>\n      <td>0.0</td>\n      <td>0.0</td>\n      <td>0.0</td>\n      <td>0.0</td>\n      <td>9.45</td>\n      <td>...</td>\n      <td>0.0</td>\n      <td>0.0</td>\n      <td>0.0</td>\n      <td>0.0</td>\n      <td>0.0</td>\n      <td>2.246</td>\n      <td>3.240</td>\n      <td>3.497</td>\n      <td>1.0</td>\n      <td>1.0</td>\n    </tr>\n    <tr>\n      <th>2</th>\n      <td>23.0</td>\n      <td>30.0</td>\n      <td>9.0</td>\n      <td>30.0</td>\n      <td>1.0</td>\n      <td>2.0</td>\n      <td>0.0</td>\n      <td>0.0</td>\n      <td>0.0</td>\n      <td>6.30</td>\n      <td>...</td>\n      <td>0.0</td>\n      <td>0.0</td>\n      <td>0.0</td>\n      <td>1.0</td>\n      <td>0.0</td>\n      <td>1.841</td>\n      <td>3.240</td>\n      <td>3.401</td>\n      <td>3.0</td>\n      <td>0.0</td>\n    </tr>\n    <tr>\n      <th>3</th>\n      <td>38.0</td>\n      <td>35.0</td>\n      <td>5.0</td>\n      <td>76.0</td>\n      <td>2.0</td>\n      <td>10.0</td>\n      <td>1.0</td>\n      <td>1.0</td>\n      <td>1.0</td>\n      <td>6.05</td>\n      <td>...</td>\n      <td>1.0</td>\n      <td>1.0</td>\n      <td>1.0</td>\n      <td>1.0</td>\n      <td>1.0</td>\n      <td>1.800</td>\n      <td>3.807</td>\n      <td>4.331</td>\n      <td>4.0</td>\n      <td>0.0</td>\n    </tr>\n    <tr>\n      <th>4</th>\n      <td>7.0</td>\n      <td>35.0</td>\n      <td>14.0</td>\n      <td>80.0</td>\n      <td>2.0</td>\n      <td>15.0</td>\n      <td>0.0</td>\n      <td>1.0</td>\n      <td>0.0</td>\n      <td>7.10</td>\n      <td>...</td>\n      <td>0.0</td>\n      <td>0.0</td>\n      <td>1.0</td>\n      <td>1.0</td>\n      <td>0.0</td>\n      <td>1.960</td>\n      <td>3.091</td>\n      <td>4.382</td>\n      <td>3.0</td>\n      <td>0.0</td>\n    </tr>\n  </tbody>\n</table>\n<p>5 rows \u00d7 28 columns</p>\n</div>"
                    },
                    "metadata": {}
                }
            ]
        },
        {
            "metadata": {},
            "cell_type": "code",
            "source": "#feature selection\ndf= df[['tenure','age','address','income','ed','employ','equip','callcard','wireless','churn']]\ndf['churn']= df['churn'].astype('int')\ndf.head()",
            "execution_count": 6,
            "outputs": [
                {
                    "output_type": "execute_result",
                    "execution_count": 6,
                    "data": {
                        "text/plain": "   tenure   age  address  income   ed  employ  equip  callcard  wireless  \\\n0    11.0  33.0      7.0   136.0  5.0     5.0    0.0       1.0       1.0   \n1    33.0  33.0     12.0    33.0  2.0     0.0    0.0       0.0       0.0   \n2    23.0  30.0      9.0    30.0  1.0     2.0    0.0       0.0       0.0   \n3    38.0  35.0      5.0    76.0  2.0    10.0    1.0       1.0       1.0   \n4     7.0  35.0     14.0    80.0  2.0    15.0    0.0       1.0       0.0   \n\n   churn  \n0      1  \n1      1  \n2      0  \n3      0  \n4      0  ",
                        "text/html": "<div>\n<style scoped>\n    .dataframe tbody tr th:only-of-type {\n        vertical-align: middle;\n    }\n\n    .dataframe tbody tr th {\n        vertical-align: top;\n    }\n\n    .dataframe thead th {\n        text-align: right;\n    }\n</style>\n<table border=\"1\" class=\"dataframe\">\n  <thead>\n    <tr style=\"text-align: right;\">\n      <th></th>\n      <th>tenure</th>\n      <th>age</th>\n      <th>address</th>\n      <th>income</th>\n      <th>ed</th>\n      <th>employ</th>\n      <th>equip</th>\n      <th>callcard</th>\n      <th>wireless</th>\n      <th>churn</th>\n    </tr>\n  </thead>\n  <tbody>\n    <tr>\n      <th>0</th>\n      <td>11.0</td>\n      <td>33.0</td>\n      <td>7.0</td>\n      <td>136.0</td>\n      <td>5.0</td>\n      <td>5.0</td>\n      <td>0.0</td>\n      <td>1.0</td>\n      <td>1.0</td>\n      <td>1</td>\n    </tr>\n    <tr>\n      <th>1</th>\n      <td>33.0</td>\n      <td>33.0</td>\n      <td>12.0</td>\n      <td>33.0</td>\n      <td>2.0</td>\n      <td>0.0</td>\n      <td>0.0</td>\n      <td>0.0</td>\n      <td>0.0</td>\n      <td>1</td>\n    </tr>\n    <tr>\n      <th>2</th>\n      <td>23.0</td>\n      <td>30.0</td>\n      <td>9.0</td>\n      <td>30.0</td>\n      <td>1.0</td>\n      <td>2.0</td>\n      <td>0.0</td>\n      <td>0.0</td>\n      <td>0.0</td>\n      <td>0</td>\n    </tr>\n    <tr>\n      <th>3</th>\n      <td>38.0</td>\n      <td>35.0</td>\n      <td>5.0</td>\n      <td>76.0</td>\n      <td>2.0</td>\n      <td>10.0</td>\n      <td>1.0</td>\n      <td>1.0</td>\n      <td>1.0</td>\n      <td>0</td>\n    </tr>\n    <tr>\n      <th>4</th>\n      <td>7.0</td>\n      <td>35.0</td>\n      <td>14.0</td>\n      <td>80.0</td>\n      <td>2.0</td>\n      <td>15.0</td>\n      <td>0.0</td>\n      <td>1.0</td>\n      <td>0.0</td>\n      <td>0</td>\n    </tr>\n  </tbody>\n</table>\n</div>"
                    },
                    "metadata": {}
                }
            ]
        },
        {
            "metadata": {},
            "cell_type": "code",
            "source": "df.shape",
            "execution_count": 8,
            "outputs": [
                {
                    "output_type": "execute_result",
                    "execution_count": 8,
                    "data": {
                        "text/plain": "(200, 10)"
                    },
                    "metadata": {}
                }
            ]
        },
        {
            "metadata": {},
            "cell_type": "code",
            "source": "X = np.asarray(df[['tenure','age','address','income','ed','employ','equip','callcard','wireless','churn']])\nX[:5]",
            "execution_count": 13,
            "outputs": [
                {
                    "output_type": "execute_result",
                    "execution_count": 13,
                    "data": {
                        "text/plain": "array([[ 11.,  33.,   7., 136.,   5.,   5.,   0.,   1.,   1.,   1.],\n       [ 33.,  33.,  12.,  33.,   2.,   0.,   0.,   0.,   0.,   1.],\n       [ 23.,  30.,   9.,  30.,   1.,   2.,   0.,   0.,   0.,   0.],\n       [ 38.,  35.,   5.,  76.,   2.,  10.,   1.,   1.,   1.,   0.],\n       [  7.,  35.,  14.,  80.,   2.,  15.,   0.,   1.,   0.,   0.]])"
                    },
                    "metadata": {}
                }
            ]
        },
        {
            "metadata": {},
            "cell_type": "code",
            "source": "y= np.asarray(df['churn'])\ny[:5]",
            "execution_count": 14,
            "outputs": [
                {
                    "output_type": "execute_result",
                    "execution_count": 14,
                    "data": {
                        "text/plain": "array([1, 1, 0, 0, 0])"
                    },
                    "metadata": {}
                }
            ]
        },
        {
            "metadata": {},
            "cell_type": "code",
            "source": "X = preprocessing.StandardScaler().fit(X).transform(X)\nX[0:5]",
            "execution_count": 16,
            "outputs": [
                {
                    "output_type": "execute_result",
                    "execution_count": 16,
                    "data": {
                        "text/plain": "array([[-1.13518441, -0.62595491, -0.4588971 ,  0.4751423 ,  1.6961288 ,\n        -0.58477841, -0.85972695,  0.64686916,  1.56469673,  1.56469673],\n       [-0.11604313, -0.62595491,  0.03454064, -0.32886061, -0.6433592 ,\n        -1.14437497, -0.85972695, -1.54590766, -0.63910148,  1.56469673],\n       [-0.57928917, -0.85594447, -0.261522  , -0.35227817, -1.42318853,\n        -0.92053635, -0.85972695, -1.54590766, -0.63910148, -0.63910148],\n       [ 0.11557989, -0.47262854, -0.65627219,  0.00679109, -0.6433592 ,\n        -0.02518185,  1.16316   ,  0.64686916,  1.56469673, -0.63910148],\n       [-1.32048283, -0.47262854,  0.23191574,  0.03801451, -0.6433592 ,\n         0.53441472, -0.85972695,  0.64686916, -0.63910148, -0.63910148]])"
                    },
                    "metadata": {}
                }
            ]
        },
        {
            "metadata": {},
            "cell_type": "markdown",
            "source": "## Train/Test dataset"
        },
        {
            "metadata": {},
            "cell_type": "code",
            "source": "from sklearn.model_selection import train_test_split\nX_train,X_test,y_train, y_test = train_test_split(X,y,test_size= 0.3,random_state=4)\nprint(\"Train set:\",X_train.shape,y_train.shape)\nprint(\"Test set:\",X_test.shape,y_test.shape)",
            "execution_count": 18,
            "outputs": [
                {
                    "output_type": "stream",
                    "text": "Train set: (140, 10) (140,)\nTest set: (60, 10) (60,)\n",
                    "name": "stdout"
                }
            ]
        },
        {
            "metadata": {},
            "cell_type": "markdown",
            "source": "<h2 id=\"modeling\">Modeling (Logistic Regression with Scikit-learn)</h2>"
        },
        {
            "metadata": {},
            "cell_type": "code",
            "source": "from sklearn.linear_model import LogisticRegression\nfrom sklearn.metrics import confusion_matrix\nLR = LogisticRegression(C = 0.01, solver= 'sag').fit(X_train,y_train)\nLR",
            "execution_count": 31,
            "outputs": [
                {
                    "output_type": "execute_result",
                    "execution_count": 31,
                    "data": {
                        "text/plain": "LogisticRegression(C=0.01, class_weight=None, dual=False, fit_intercept=True,\n          intercept_scaling=1, max_iter=100, multi_class='warn',\n          n_jobs=None, penalty='l2', random_state=None, solver='sag',\n          tol=0.0001, verbose=0, warm_start=False)"
                    },
                    "metadata": {}
                }
            ]
        },
        {
            "metadata": {},
            "cell_type": "code",
            "source": "yhat= LR.predict(X_test)\nyhat",
            "execution_count": 32,
            "outputs": [
                {
                    "output_type": "execute_result",
                    "execution_count": 32,
                    "data": {
                        "text/plain": "array([0, 0, 0, 0, 0, 0, 0, 0, 1, 0, 0, 0, 0, 1, 0, 0, 0, 1, 1, 0, 0, 0,\n       0, 0, 0, 0, 0, 0, 0, 0, 0, 0, 1, 0, 0, 0, 1, 0, 0, 0, 0, 0, 0, 0,\n       0, 0, 0, 0, 0, 0, 0, 0, 0, 0, 0, 0, 0, 0, 0, 0])"
                    },
                    "metadata": {}
                }
            ]
        },
        {
            "metadata": {},
            "cell_type": "code",
            "source": "yhat_prob = LR.predict_proba(X_test)\nyhat_prob",
            "execution_count": 33,
            "outputs": [
                {
                    "output_type": "execute_result",
                    "execution_count": 33,
                    "data": {
                        "text/plain": "array([[0.79, 0.21],\n       [0.79, 0.21],\n       [0.55, 0.45],\n       [0.84, 0.16],\n       [0.55, 0.45],\n       [0.61, 0.39],\n       [0.51, 0.49],\n       [0.79, 0.21],\n       [0.43, 0.57],\n       [0.61, 0.39],\n       [0.78, 0.22],\n       [0.8 , 0.2 ],\n       [0.76, 0.24],\n       [0.44, 0.56],\n       [0.85, 0.15],\n       [0.76, 0.24],\n       [0.51, 0.49],\n       [0.49, 0.51],\n       [0.49, 0.51],\n       [0.58, 0.42],\n       [0.75, 0.25],\n       [0.75, 0.25],\n       [0.84, 0.16],\n       [0.75, 0.25],\n       [0.73, 0.27],\n       [0.87, 0.13],\n       [0.72, 0.28],\n       [0.74, 0.26],\n       [0.73, 0.27],\n       [0.87, 0.13],\n       [0.86, 0.14],\n       [0.77, 0.23],\n       [0.44, 0.56],\n       [0.88, 0.12],\n       [0.63, 0.37],\n       [0.81, 0.19],\n       [0.48, 0.52],\n       [0.58, 0.42],\n       [0.85, 0.15],\n       [0.74, 0.26],\n       [0.85, 0.15],\n       [0.5 , 0.5 ],\n       [0.81, 0.19],\n       [0.81, 0.19],\n       [0.85, 0.15],\n       [0.77, 0.23],\n       [0.89, 0.11],\n       [0.86, 0.14],\n       [0.82, 0.18],\n       [0.87, 0.13],\n       [0.8 , 0.2 ],\n       [0.89, 0.11],\n       [0.71, 0.29],\n       [0.57, 0.43],\n       [0.76, 0.24],\n       [0.78, 0.22],\n       [0.74, 0.26],\n       [0.74, 0.26],\n       [0.83, 0.17],\n       [0.74, 0.26]])"
                    },
                    "metadata": {}
                }
            ]
        },
        {
            "metadata": {},
            "cell_type": "markdown",
            "source": "## Accuracy Evaluation"
        },
        {
            "metadata": {},
            "cell_type": "code",
            "source": "#jaccard index\nfrom sklearn.metrics import jaccard_similarity_score",
            "execution_count": 34,
            "outputs": []
        },
        {
            "metadata": {},
            "cell_type": "code",
            "source": "jaccard_similarity_score(y_test,yhat)",
            "execution_count": 35,
            "outputs": [
                {
                    "output_type": "execute_result",
                    "execution_count": 35,
                    "data": {
                        "text/plain": "0.8166666666666667"
                    },
                    "metadata": {}
                }
            ]
        },
        {
            "metadata": {},
            "cell_type": "code",
            "source": "#confusion matrix\nfrom sklearn.metrics import classification_report, confusion_matrix\nimport itertools\ndef plot_confusion_matrix(cm, classes,\n                          normalize=False,\n                          title='Confusion matrix',\n                          cmap=plt.cm.Blues):\n    \n    if normalize:\n        cm = cm.astype('float') / cm.sum(axis=1)[:, np.newaxis]\n        print(\"Normalized confusion matrix\")\n    else:\n        print('Confusion matrix, without normalization')\n\n    print(cm)\n\n    plt.imshow(cm, interpolation='nearest', cmap=cmap)\n    plt.title(title)\n    plt.colorbar()\n    tick_marks = np.arange(len(classes))\n    plt.xticks(tick_marks, classes, rotation=45)\n    plt.yticks(tick_marks, classes)\n\n    fmt = '.2f' if normalize else 'd'\n    thresh = cm.max() / 2.\n    for i, j in itertools.product(range(cm.shape[0]), range(cm.shape[1])):\n        plt.text(j, i, format(cm[i, j], fmt),\n                 horizontalalignment=\"center\",\n                 color=\"white\" if cm[i, j] > thresh else \"black\")\n\n    plt.tight_layout()\n    plt.ylabel('True label')\n    plt.xlabel('Predicted label')\nprint(confusion_matrix(y_test, yhat, labels=[1,0]))",
            "execution_count": 36,
            "outputs": [
                {
                    "output_type": "stream",
                    "text": "[[ 6 11]\n [ 0 43]]\n",
                    "name": "stdout"
                }
            ]
        },
        {
            "metadata": {},
            "cell_type": "code",
            "source": "# Compute confusion matrix\ncnf_matrix = confusion_matrix(y_test, yhat, labels=[1,0])\nnp.set_printoptions(precision=2)\n\n\n# Plot non-normalized confusion matrix\nplt.figure()\nplot_confusion_matrix(cnf_matrix, classes=['churn=1','churn=0'],normalize= False,  title='Confusion matrix')",
            "execution_count": 37,
            "outputs": [
                {
                    "output_type": "stream",
                    "text": "Confusion matrix, without normalization\n[[ 6 11]\n [ 0 43]]\n",
                    "name": "stdout"
                },
                {
                    "output_type": "display_data",
                    "data": {
                        "text/plain": "<Figure size 432x288 with 2 Axes>",
                        "image/png": "[encoded data removed]"
                    },
                    "metadata": {
                        "needs_background": "light"
                    }
                }
            ]
        },
        {
            "metadata": {},
            "cell_type": "code",
            "source": "print (classification_report(y_test, yhat))",
            "execution_count": 38,
            "outputs": [
                {
                    "output_type": "stream",
                    "text": "              precision    recall  f1-score   support\n\n           0       0.80      1.00      0.89        43\n           1       1.00      0.35      0.52        17\n\n   micro avg       0.82      0.82      0.82        60\n   macro avg       0.90      0.68      0.70        60\nweighted avg       0.85      0.82      0.78        60\n\n",
                    "name": "stdout"
                }
            ]
        },
        {
            "metadata": {},
            "cell_type": "code",
            "source": "#log loss\nfrom sklearn.metrics import log_loss\nlog_loss(y_test, yhat_prob)",
            "execution_count": 39,
            "outputs": [
                {
                    "output_type": "execute_result",
                    "execution_count": 39,
                    "data": {
                        "text/plain": "0.37703066896880283"
                    },
                    "metadata": {}
                }
            ]
        },
        {
            "metadata": {},
            "cell_type": "code",
            "source": "",
            "execution_count": null,
            "outputs": []
        }
    ],
    "metadata": {
        "kernelspec": {
            "name": "python3",
            "display_name": "Python 3.6",
            "language": "python"
        },
        "language_info": {
            "name": "python",
            "version": "3.6.9",
            "mimetype": "text/x-python",
            "codemirror_mode": {
                "name": "ipython",
                "version": 3
            },
            "pygments_lexer": "ipython3",
            "nbconvert_exporter": "python",
            "file_extension": ".py"
        }
    },
    "nbformat": 4,
    "nbformat_minor": 1
}